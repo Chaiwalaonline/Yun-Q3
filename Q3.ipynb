{
  "nbformat": 4,
  "nbformat_minor": 0,
  "metadata": {
    "colab": {
      "provenance": []
    },
    "kernelspec": {
      "name": "python3",
      "display_name": "Python 3"
    },
    "language_info": {
      "name": "python"
    }
  },
  "cells": [
    {
      "cell_type": "code",
      "execution_count": null,
      "metadata": {
        "id": "U-WX-6FtBzxf"
      },
      "outputs": [],
      "source": [
        "import pandas as pd\n",
        "import numpy as np\n",
        "from scipy.spatial import distance_matrix\n",
        "\n",
        "# Create a sample DataFrame with x and y coordinates\n",
        "data = {'x': [0.1, 0.4, 1.0, 1.2, 2.0],\n",
        "        'y': [0.2, 0.5, 1.1, 1.3, 2.1]}\n",
        "df = pd.DataFrame(data)\n",
        "\n",
        "# Compute the distance matrix\n",
        "dist_matrix = distance_matrix(df[['x', 'y']], df[['x', 'y']])\n",
        "\n",
        "# Group points within 0.5 distance\n",
        "groups = []\n",
        "visited = set()\n",
        "for i, row in enumerate(dist_matrix):\n",
        "    if i not in visited:\n",
        "        group = np.where(row <= 0.5)[0]\n",
        "        groups.append(list(group))\n",
        "        visited.update(group)\n",
        "\n",
        "# Add group labels to the DataFrame\n",
        "group_labels = np.zeros(len(df), dtype=int)\n",
        "for label, group in enumerate(groups, start=1):\n",
        "    group_labels[group] = label\n",
        "\n",
        "df['group'] = group_labels\n",
        "\n",
        "print(df)"
      ]
    }
  ]
}